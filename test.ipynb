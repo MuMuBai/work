{
 "cells": [
  {
   "cell_type": "code",
   "execution_count": 2,
   "id": "b842e10f-ccee-4cda-b2a6-730ec106c357",
   "metadata": {},
   "outputs": [],
   "source": [
    "import torch\n",
    "import pandas as pd\n",
    "import numpy as np\n",
    "import torch.nn.functional as F\n",
    "from torch.utils.data import TensorDataset\n",
    "from torch.utils.data import DataLoader\n",
    "from torch import nn\n",
    "\n",
    "data_from_xlsx=pd.read_excel(r'data.xlsx',sheet_name=(['train','test']),usecols=[0,1,2,3,4,5,6],)\n",
    "data_train=data_from_xlsx['train']  ##.value numpy\n",
    "data_test=data_from_xlsx['test']\n",
    "data_train_target=data_train['target'].values\n",
    "data_test_target=data_test['target'].values\n",
    "data_train=data_train[['a','b','c','d','e','f']].values\n",
    "data_test=data_test[['a','b','c','d','e','f']].values\n",
    "data_train=torch.from_numpy(data_train).float()\n",
    "data_test=torch.from_numpy(data_test).float()\n",
    "# print(data_train.size(),data_train.dtype)\n",
    "data_train_target=torch.from_numpy(data_train_target).float()\n",
    "data_test_target=torch.from_numpy(data_test_target).float()\n",
    "\n",
    "\n",
    "def get_data(train_data,test_data,train_data_target,test_data_target,batch_size):\n",
    "    train_ds=TensorDataset(train_data,train_data_target)\n",
    "    test_ds = TensorDataset(test_data, test_data_target)\n",
    "    return DataLoader(train_ds,batch_size=batch_size,shuffle=True,drop_last=True),DataLoader(test_data,batch_size=batch_size)\n",
    "\n",
    "\n",
    "def loss_batch(model,loss_func,x_batch,y_batch,opt=None):\n",
    "    print(model(x_batch).squeeze(-1).dtype,y_batch.dtype)\n",
    "    loss=loss_func(model(x_batch).squeeze(-1),y_batch.float())\n",
    "    if opt is not None:\n",
    "        loss.backward()\n",
    "        opt.step()\n",
    "        opt.zero_grad()\n",
    "    return loss.item(),len(x_batch)\n",
    "\n",
    "\n",
    "def fit(steps,model,loss_func,opt,train_dl,test_dl):\n",
    "    for step in range(steps):\n",
    "        model.train()\n",
    "        for x_batch,y_batch in train_dl:\n",
    "            loss_batch(model,loss_func,x_batch,y_batch,opt)\n",
    "\n",
    "        model.eval()\n",
    "        with torch.no_grad():\n",
    "            losses,nums=zip(*[loss_batch(model,loss_func,x_b,y_b) for x_b,y_b in test_dl])\n",
    "        test_loss=np.sum(np.multiply(losses,nums))/np.sum(nums)\n",
    "        print('当前step: '+str(step),'测试集损失: '+str(test_loss))\n",
    "\n",
    "class basic_bp(nn.Module):\n",
    "    def __init__(self):\n",
    "        super(basic_bp, self).__init__()\n",
    "        self.fc1=nn.Linear(6,4)\n",
    "        # self.relu=nn.ReLU()\n",
    "        self.fc2=nn.Linear(4,1)\n",
    "        # self.sigmoid=nn.Sigmoid()\n",
    "\n",
    "    def forward(self,x):\n",
    "        x=F.relu(self.fc1(x))\n",
    "\n",
    "        x=F.sigmoid(self.fc2(x))\n",
    "\n",
    "        return x\n",
    "\n",
    "\n"
   ]
  },
  {
   "cell_type": "code",
   "execution_count": null,
   "id": "502c7a92-0f3a-4d96-9f4d-d4468982c01f",
   "metadata": {},
   "outputs": [],
   "source": []
  },
  {
   "cell_type": "code",
   "execution_count": 52,
   "id": "fde57015-5e9a-4db9-9d23-6013e275c800",
   "metadata": {},
   "outputs": [],
   "source": [
    "def get_model():\n",
    "    model=basic_bp()\n",
    "    opt=torch.optim.Adam(model.parameters(),lr=0.001)\n",
    "    return model,opt"
   ]
  },
  {
   "cell_type": "code",
   "execution_count": 53,
   "id": "1a9855ce-2b68-4d56-9162-28471f2af927",
   "metadata": {},
   "outputs": [],
   "source": [
    "model,optim=get_model()"
   ]
  },
  {
   "cell_type": "code",
   "execution_count": 54,
   "id": "cf9c031b-cddf-4302-b4e6-e71aa3c3485b",
   "metadata": {},
   "outputs": [],
   "source": [
    "loss_fn=nn.BCELoss()"
   ]
  },
  {
   "cell_type": "code",
   "execution_count": 66,
   "id": "2ede58e8-4f91-40a0-a085-c47e6c606cf4",
   "metadata": {},
   "outputs": [],
   "source": [
    "data_train_ds,data_test_ds=get_data(data_train,data_test,data_train_target,data_test_target,64)"
   ]
  },
  {
   "cell_type": "code",
   "execution_count": 84,
   "id": "ea94cd6a-01f9-45e2-a122-999dd628c237",
   "metadata": {},
   "outputs": [],
   "source": [
    "epochs=500"
   ]
  },
  {
   "cell_type": "code",
   "execution_count": 94,
   "id": "351804fa-70ee-4484-8725-70d0e6660a5e",
   "metadata": {},
   "outputs": [],
   "source": [
    "for epoch in range(epochs):\n",
    "    model.train()\n",
    "    for x,y in data_train_ds:\n",
    "        y_pred=model(x)\n",
    "        loss=loss_fn(y_pred.squeeze(-1),y)\n",
    "        optim.zero_grad()\n",
    "        loss.backward()\n",
    "        optim.step()"
   ]
  },
  {
   "cell_type": "code",
   "execution_count": null,
   "id": "cee1874c-3ada-4dc5-a83d-f952c640f7b3",
   "metadata": {},
   "outputs": [],
   "source": []
  },
  {
   "cell_type": "code",
   "execution_count": 95,
   "id": "bd165908-3487-417c-a9b9-279e11d4829d",
   "metadata": {},
   "outputs": [
    {
     "data": {
      "text/plain": [
       "basic_bp(\n",
       "  (fc1): Linear(in_features=6, out_features=4, bias=True)\n",
       "  (fc2): Linear(in_features=4, out_features=1, bias=True)\n",
       ")"
      ]
     },
     "execution_count": 95,
     "metadata": {},
     "output_type": "execute_result"
    }
   ],
   "source": [
    "model.eval()"
   ]
  },
  {
   "cell_type": "code",
   "execution_count": 96,
   "id": "87549546-a3dd-4405-8cf3-efee0db5fbf4",
   "metadata": {},
   "outputs": [],
   "source": [
    "with torch.no_grad():\n",
    "    loss=loss_fn(model(data_train).squeeze(-1),data_train_target).item()"
   ]
  },
  {
   "cell_type": "code",
   "execution_count": 97,
   "id": "21ecc774-2c2a-496d-bb75-40d7932022f9",
   "metadata": {},
   "outputs": [
    {
     "data": {
      "text/plain": [
       "0.45512741804122925"
      ]
     },
     "execution_count": 97,
     "metadata": {},
     "output_type": "execute_result"
    }
   ],
   "source": [
    "loss"
   ]
  },
  {
   "cell_type": "code",
   "execution_count": 98,
   "id": "7975ebca-cf13-47bf-84f0-5926b58fd541",
   "metadata": {},
   "outputs": [
    {
     "data": {
      "text/plain": [
       "tensor(0.4551, grad_fn=<BinaryCrossEntropyBackward0>)"
      ]
     },
     "execution_count": 98,
     "metadata": {},
     "output_type": "execute_result"
    }
   ],
   "source": [
    "loss_fn(model(data_train).squeeze(-1),data_train_target)"
   ]
  },
  {
   "cell_type": "code",
   "execution_count": null,
   "id": "7eee9694-62fa-4f01-ac8d-6df407dba6ac",
   "metadata": {},
   "outputs": [],
   "source": []
  },
  {
   "cell_type": "code",
   "execution_count": null,
   "id": "ace287b9-1ea3-4ffc-8ecf-051b9581f062",
   "metadata": {},
   "outputs": [],
   "source": []
  },
  {
   "cell_type": "code",
   "execution_count": null,
   "id": "65e9f327-82e0-487c-b6f5-068fe50503c0",
   "metadata": {},
   "outputs": [],
   "source": []
  },
  {
   "cell_type": "code",
   "execution_count": 128,
   "id": "dc7a50ee-73f7-4afd-944c-6076189245c9",
   "metadata": {},
   "outputs": [],
   "source": [
    "res=model(data_train).squeeze(-1)"
   ]
  },
  {
   "cell_type": "code",
   "execution_count": 129,
   "id": "9a71e19a-3206-4f0c-997b-42ff60bdc55c",
   "metadata": {},
   "outputs": [],
   "source": [
    "res=(res>=0.5)"
   ]
  },
  {
   "cell_type": "code",
   "execution_count": 130,
   "id": "03e78b76-d876-49aa-9152-489fbe68fe70",
   "metadata": {},
   "outputs": [],
   "source": [
    "res=(res==data_train_target)"
   ]
  },
  {
   "cell_type": "code",
   "execution_count": 131,
   "id": "97dcefa2-1b73-4e1b-baca-c34fdcdc21d5",
   "metadata": {},
   "outputs": [],
   "source": [
    "hit=res.sum()"
   ]
  },
  {
   "cell_type": "code",
   "execution_count": 132,
   "id": "8f883c79-516d-483e-923b-ff079ab099f1",
   "metadata": {},
   "outputs": [],
   "source": [
    "acc=(hit/len(data_train_target)).item()"
   ]
  },
  {
   "cell_type": "code",
   "execution_count": 133,
   "id": "cd8ec889-e245-4a1f-869c-f7370100af87",
   "metadata": {},
   "outputs": [
    {
     "data": {
      "text/plain": [
       "0.8240740895271301"
      ]
     },
     "execution_count": 133,
     "metadata": {},
     "output_type": "execute_result"
    }
   ],
   "source": [
    "acc"
   ]
  },
  {
   "cell_type": "code",
   "execution_count": null,
   "id": "f2007333-2f24-489a-804f-8a37f3ec2478",
   "metadata": {},
   "outputs": [],
   "source": []
  },
  {
   "cell_type": "code",
   "execution_count": null,
   "id": "5cd6ab25-4fb6-491e-a1fd-38cab7a33c88",
   "metadata": {},
   "outputs": [],
   "source": []
  },
  {
   "cell_type": "code",
   "execution_count": null,
   "id": "38772d21-3b1a-440c-991b-0589c3a0c8e4",
   "metadata": {},
   "outputs": [],
   "source": []
  },
  {
   "cell_type": "code",
   "execution_count": null,
   "id": "db7156fe-9b09-4304-9fc3-7067f0ab08c5",
   "metadata": {},
   "outputs": [],
   "source": []
  },
  {
   "cell_type": "code",
   "execution_count": 134,
   "id": "38c680a1-ce3f-40df-8248-f6d3a9eba868",
   "metadata": {},
   "outputs": [],
   "source": [
    "res_test=model(data_test).squeeze(-1)"
   ]
  },
  {
   "cell_type": "code",
   "execution_count": 136,
   "id": "57a5d5ed-9630-497c-ade9-decbdb47399c",
   "metadata": {},
   "outputs": [],
   "source": [
    "res_test=(res_test>=0.5)"
   ]
  },
  {
   "cell_type": "code",
   "execution_count": 137,
   "id": "f7d1ecfc-ee46-4769-809a-377e3f174ca4",
   "metadata": {},
   "outputs": [],
   "source": [
    "res_test=(res_tess==data_test_target)"
   ]
  },
  {
   "cell_type": "code",
   "execution_count": 139,
   "id": "c44b9278-6e35-4449-96d5-f29757ed0b76",
   "metadata": {},
   "outputs": [],
   "source": [
    "acc_test=(res_test.sum()/len(data_test_target)).item()"
   ]
  },
  {
   "cell_type": "code",
   "execution_count": 140,
   "id": "86d635b9-cdcd-4434-b129-2aa708beed10",
   "metadata": {},
   "outputs": [
    {
     "data": {
      "text/plain": [
       "0.800000011920929"
      ]
     },
     "execution_count": 140,
     "metadata": {},
     "output_type": "execute_result"
    }
   ],
   "source": [
    "acc_test"
   ]
  },
  {
   "cell_type": "code",
   "execution_count": null,
   "id": "2a50ad63-dcf8-4057-b2c1-7df98e90731b",
   "metadata": {},
   "outputs": [],
   "source": []
  },
  {
   "cell_type": "code",
   "execution_count": null,
   "id": "a6cabf6e-724f-40d3-86b3-b9210e45e768",
   "metadata": {},
   "outputs": [],
   "source": [
    "无归一化 6-4-1 bp神经网络  初步acc (train:0.824 test:0.800)"
   ]
  },
  {
   "cell_type": "code",
   "execution_count": null,
   "id": "80e52e34-91ab-4205-8503-97214f16f7bd",
   "metadata": {},
   "outputs": [],
   "source": []
  },
  {
   "cell_type": "code",
   "execution_count": 5,
   "id": "eb3d47ca-3860-4b7e-b70a-70962f73e69d",
   "metadata": {},
   "outputs": [
    {
     "data": {
      "text/plain": [
       "tensor([[0.],\n",
       "        [0.],\n",
       "        [0.],\n",
       "        [0.]])"
      ]
     },
     "execution_count": 5,
     "metadata": {},
     "output_type": "execute_result"
    }
   ],
   "source": [
    "torch.zeros(4,1)"
   ]
  },
  {
   "cell_type": "code",
   "execution_count": 7,
   "id": "cffb6a83-3321-4186-8e7d-4a9d05e0291d",
   "metadata": {},
   "outputs": [
    {
     "name": "stderr",
     "output_type": "stream",
     "text": [
      "C:\\Users\\Administrator\\AppData\\Local\\Temp\\ipykernel_356\\68745289.py:1: UserWarning: To copy construct from a tensor, it is recommended to use sourceTensor.clone().detach() or sourceTensor.clone().detach().requires_grad_(True), rather than torch.tensor(sourceTensor).\n",
      "  torch.tensor(torch.tensor(5))\n"
     ]
    },
    {
     "data": {
      "text/plain": [
       "tensor(5)"
      ]
     },
     "execution_count": 7,
     "metadata": {},
     "output_type": "execute_result"
    }
   ],
   "source": [
    "torch.tensor(torch.tensor(5))"
   ]
  },
  {
   "cell_type": "code",
   "execution_count": 8,
   "id": "e29ba29e-ccbd-429b-9a5b-4a5bc15c965d",
   "metadata": {},
   "outputs": [],
   "source": [
    "aaa=[]\n",
    "tunal_FIT=1\n"
   ]
  },
  {
   "cell_type": "code",
   "execution_count": 10,
   "id": "02726f6b-c1cb-4082-b85d-91dfa7a0b148",
   "metadata": {},
   "outputs": [
    {
     "name": "stdout",
     "output_type": "stream",
     "text": [
      "13\n",
      "13\n",
      "13\n",
      "13\n",
      "13\n",
      "13\n",
      "13\n",
      "13\n",
      "13\n",
      "13\n"
     ]
    }
   ],
   "source": [
    "for i in range(10):\n",
    "    aaa.append(10)\n",
    "    if aaa[i]>1:\n",
    "        print(13)"
   ]
  },
  {
   "cell_type": "code",
   "execution_count": null,
   "id": "6bb43a5d-1627-41da-b64e-0912639b0a8b",
   "metadata": {},
   "outputs": [],
   "source": []
  },
  {
   "cell_type": "code",
   "execution_count": 12,
   "id": "397b4775-ce01-4b1d-a26a-dead1f844120",
   "metadata": {},
   "outputs": [
    {
     "data": {
      "text/plain": [
       "tensor([ 2,  4, 18])"
      ]
     },
     "execution_count": 12,
     "metadata": {},
     "output_type": "execute_result"
    }
   ],
   "source": [
    "torch.tensor([1,2,3])*torch.tensor([2,2,6])"
   ]
  },
  {
   "cell_type": "code",
   "execution_count": null,
   "id": "e152fbba-1eab-4ddc-9b0c-fd4d4905dc42",
   "metadata": {},
   "outputs": [],
   "source": []
  },
  {
   "cell_type": "code",
   "execution_count": 2,
   "id": "eda15481-db1c-4f25-a936-afc551d4b2d0",
   "metadata": {},
   "outputs": [],
   "source": [
    "import copy"
   ]
  },
  {
   "cell_type": "code",
   "execution_count": 1,
   "id": "f9610d79-c71c-4e56-ac17-18a39bde3120",
   "metadata": {},
   "outputs": [],
   "source": [
    "a=[1,23,3]"
   ]
  },
  {
   "cell_type": "code",
   "execution_count": 3,
   "id": "48933ae1-e314-46cf-8332-932e904170f6",
   "metadata": {},
   "outputs": [],
   "source": [
    "b=copy.deepcopy(a)"
   ]
  },
  {
   "cell_type": "code",
   "execution_count": 4,
   "id": "e85d33ec",
   "metadata": {},
   "outputs": [
    {
     "data": {
      "text/plain": [
       "(2340608988352, 2340611471552)"
      ]
     },
     "execution_count": 4,
     "metadata": {},
     "output_type": "execute_result"
    }
   ],
   "source": [
    "id(a),id(b)"
   ]
  },
  {
   "cell_type": "code",
   "execution_count": 5,
   "id": "ad2f2410",
   "metadata": {},
   "outputs": [],
   "source": [
    "b=a"
   ]
  },
  {
   "cell_type": "code",
   "execution_count": 6,
   "id": "9606936f",
   "metadata": {},
   "outputs": [
    {
     "data": {
      "text/plain": [
       "(2340608988352, 2340608988352)"
      ]
     },
     "execution_count": 6,
     "metadata": {},
     "output_type": "execute_result"
    }
   ],
   "source": [
    "id(a),id(b)"
   ]
  },
  {
   "cell_type": "code",
   "execution_count": null,
   "id": "63b17df6",
   "metadata": {},
   "outputs": [],
   "source": []
  },
  {
   "cell_type": "code",
   "execution_count": 1,
   "id": "fc8d1552",
   "metadata": {},
   "outputs": [],
   "source": [
    "import torch"
   ]
  },
  {
   "cell_type": "code",
   "execution_count": 3,
   "id": "ebd76010",
   "metadata": {},
   "outputs": [],
   "source": [
    "def fojb(vec_tensor):\n",
    "    x1=vec_tensor[0].item()\n",
    "    x2=vec_tensor[1].item()\n",
    "    return (x1-2)**2 + x2**2"
   ]
  },
  {
   "cell_type": "code",
   "execution_count": null,
   "id": "4225f5b5",
   "metadata": {},
   "outputs": [],
   "source": []
  },
  {
   "cell_type": "code",
   "execution_count": 15,
   "id": "75d025de",
   "metadata": {},
   "outputs": [
    {
     "data": {
      "text/plain": [
       "10.193442709226304"
      ]
     },
     "execution_count": 15,
     "metadata": {},
     "output_type": "execute_result"
    }
   ],
   "source": [
    "fojb(torch.tensor([0.7751,2.9484]))"
   ]
  },
  {
   "cell_type": "code",
   "execution_count": 8,
   "id": "321dcd74-9b7c-486b-a838-b5f818c7691b",
   "metadata": {},
   "outputs": [],
   "source": [
    "aa=torch.tensor([[1,2],[3,4]])"
   ]
  },
  {
   "cell_type": "code",
   "execution_count": 9,
   "id": "878392a2-49b8-4370-acda-ba010bb0f569",
   "metadata": {},
   "outputs": [
    {
     "data": {
      "text/plain": [
       "tensor([[1, 2],\n",
       "        [3, 4]])"
      ]
     },
     "execution_count": 9,
     "metadata": {},
     "output_type": "execute_result"
    }
   ],
   "source": [
    "aa"
   ]
  },
  {
   "cell_type": "code",
   "execution_count": 12,
   "id": "dc0056ec-47c8-4da7-aefc-d68bbcfc035d",
   "metadata": {},
   "outputs": [],
   "source": [
    "aa[0]=torch.tensor([-3.5734,3.4192])"
   ]
  },
  {
   "cell_type": "code",
   "execution_count": 11,
   "id": "b18a91bf-997e-48d7-bb5e-fb873001e1c1",
   "metadata": {},
   "outputs": [
    {
     "data": {
      "text/plain": [
       "tensor([[233,  33],\n",
       "        [  3,   4]])"
      ]
     },
     "execution_count": 11,
     "metadata": {},
     "output_type": "execute_result"
    }
   ],
   "source": [
    "aa"
   ]
  },
  {
   "cell_type": "code",
   "execution_count": null,
   "id": "b6589a7f-2143-4846-87a8-0005a39b7d82",
   "metadata": {},
   "outputs": [],
   "source": []
  },
  {
   "cell_type": "code",
   "execution_count": 16,
   "id": "6819536f-bdb3-4e7e-8a28-6901f3b78655",
   "metadata": {},
   "outputs": [],
   "source": [
    "aaa=torch.tensor([111,3434])"
   ]
  },
  {
   "cell_type": "code",
   "execution_count": 17,
   "id": "d535a561-1fdd-42ba-8788-7b8ae85d8855",
   "metadata": {},
   "outputs": [],
   "source": [
    "bbb=torch.tensor([1,1])"
   ]
  },
  {
   "cell_type": "code",
   "execution_count": 18,
   "id": "6403638b-e423-4623-aebc-a658ffcfcc39",
   "metadata": {},
   "outputs": [],
   "source": [
    "aaa=bbb"
   ]
  },
  {
   "cell_type": "code",
   "execution_count": 19,
   "id": "b0e84645-236c-4389-a149-d465adb82c77",
   "metadata": {},
   "outputs": [
    {
     "data": {
      "text/plain": [
       "tensor([1, 1])"
      ]
     },
     "execution_count": 19,
     "metadata": {},
     "output_type": "execute_result"
    }
   ],
   "source": [
    "aaa"
   ]
  },
  {
   "cell_type": "code",
   "execution_count": 20,
   "id": "848c6398-3b27-4f97-ae98-67dea6d3eea7",
   "metadata": {},
   "outputs": [
    {
     "data": {
      "text/plain": [
       "tensor([1, 1])"
      ]
     },
     "execution_count": 20,
     "metadata": {},
     "output_type": "execute_result"
    }
   ],
   "source": [
    "bbb"
   ]
  },
  {
   "cell_type": "code",
   "execution_count": 22,
   "id": "4a5fdd63-ad05-4f11-8b6a-58953b174d93",
   "metadata": {},
   "outputs": [
    {
     "data": {
      "text/plain": [
       "True"
      ]
     },
     "execution_count": 22,
     "metadata": {},
     "output_type": "execute_result"
    }
   ],
   "source": [
    "id(aaa)==id(bbb)"
   ]
  },
  {
   "cell_type": "code",
   "execution_count": 23,
   "id": "8394947d-af3d-4a5f-bcce-7925142bc1b8",
   "metadata": {},
   "outputs": [],
   "source": [
    "import math"
   ]
  },
  {
   "cell_type": "code",
   "execution_count": 24,
   "id": "852d39ea-f5dc-4664-8809-4f0768fa741b",
   "metadata": {},
   "outputs": [
    {
     "data": {
      "text/plain": [
       "0.0"
      ]
     },
     "execution_count": 24,
     "metadata": {},
     "output_type": "execute_result"
    }
   ],
   "source": [
    "math.sin(0)"
   ]
  },
  {
   "cell_type": "code",
   "execution_count": 25,
   "id": "b3984389-9172-4745-8365-66049cdaa829",
   "metadata": {},
   "outputs": [
    {
     "data": {
      "text/plain": [
       "tensor([1., 1., 1., 1., 1., 1., 1., 1., 1., 1., 1., 1., 1., 1., 1., 1., 1., 1.,\n",
       "        1., 1., 1., 1., 1., 1., 1., 1., 1., 1., 1., 1., 1.])"
      ]
     },
     "execution_count": 25,
     "metadata": {},
     "output_type": "execute_result"
    }
   ],
   "source": [
    "torch.ones(31)"
   ]
  },
  {
   "cell_type": "code",
   "execution_count": null,
   "id": "893b0982-9fa7-4616-bcfd-a8f6e47f201e",
   "metadata": {},
   "outputs": [],
   "source": []
  },
  {
   "cell_type": "code",
   "execution_count": null,
   "id": "50259462-2cb2-4376-9364-27e6ffb380ef",
   "metadata": {},
   "outputs": [],
   "source": []
  },
  {
   "cell_type": "code",
   "execution_count": 1,
   "id": "e3e59deb-7a53-4798-9ffd-5b359f37fac5",
   "metadata": {},
   "outputs": [],
   "source": [
    "import torch"
   ]
  },
  {
   "cell_type": "code",
   "execution_count": 14,
   "id": "0672c60a-fe24-47b8-8e0f-13151fc5b6b4",
   "metadata": {},
   "outputs": [],
   "source": [
    "tt=torch.tensor([[1,2,3],[3,4,5],[6,7,8]])"
   ]
  },
  {
   "cell_type": "code",
   "execution_count": 15,
   "id": "2e1305ab-604e-4e0f-96cf-e0042e1a6585",
   "metadata": {},
   "outputs": [],
   "source": [
    "tt=tt.float()"
   ]
  },
  {
   "cell_type": "code",
   "execution_count": 16,
   "id": "7d18be9c-f5a0-4261-a0fc-7cec146c3ebc",
   "metadata": {},
   "outputs": [
    {
     "data": {
      "text/plain": [
       "torch.Size([3, 3])"
      ]
     },
     "execution_count": 16,
     "metadata": {},
     "output_type": "execute_result"
    }
   ],
   "source": [
    "tt.shape"
   ]
  },
  {
   "cell_type": "code",
   "execution_count": 17,
   "id": "a18c2d0c-2b22-4a9a-89d6-e0f872ea1a80",
   "metadata": {},
   "outputs": [],
   "source": [
    "bn=torch.nn.BatchNorm1d(3)"
   ]
  },
  {
   "cell_type": "code",
   "execution_count": 19,
   "id": "f85fd729-ae30-42b7-9c2f-4c1b441b1f39",
   "metadata": {},
   "outputs": [],
   "source": [
    "zz=bn(tt)"
   ]
  },
  {
   "cell_type": "code",
   "execution_count": 20,
   "id": "24192a97-55c7-4933-b86b-d0581fe44207",
   "metadata": {},
   "outputs": [
    {
     "data": {
      "text/plain": [
       "tensor([[-1.1355, -1.1355, -1.1355],\n",
       "        [-0.1622, -0.1622, -0.1622],\n",
       "        [ 1.2978,  1.2978,  1.2978]], grad_fn=<NativeBatchNormBackward0>)"
      ]
     },
     "execution_count": 20,
     "metadata": {},
     "output_type": "execute_result"
    }
   ],
   "source": [
    "zz"
   ]
  },
  {
   "cell_type": "code",
   "execution_count": 25,
   "id": "2f765a4e-2100-4c99-867e-8d7331de5407",
   "metadata": {},
   "outputs": [
    {
     "data": {
      "text/plain": [
       "tensor([-1.1355, -0.1622,  1.2978], grad_fn=<MeanBackward1>)"
      ]
     },
     "execution_count": 25,
     "metadata": {},
     "output_type": "execute_result"
    }
   ],
   "source": [
    "torch.mean(zz,dim=1)"
   ]
  },
  {
   "cell_type": "code",
   "execution_count": null,
   "id": "68cc81f5-a4bc-477f-97fc-1bc436f61d38",
   "metadata": {},
   "outputs": [],
   "source": []
  },
  {
   "cell_type": "code",
   "execution_count": null,
   "id": "c3224b4e-9f27-45de-9480-f6de2902ca8c",
   "metadata": {},
   "outputs": [],
   "source": []
  }
 ],
 "metadata": {
  "kernelspec": {
   "display_name": "Python 3 (ipykernel)",
   "language": "python",
   "name": "python3"
  },
  "language_info": {
   "codemirror_mode": {
    "name": "ipython",
    "version": 3
   },
   "file_extension": ".py",
   "mimetype": "text/x-python",
   "name": "python",
   "nbconvert_exporter": "python",
   "pygments_lexer": "ipython3",
   "version": "3.8.0"
  }
 },
 "nbformat": 4,
 "nbformat_minor": 5
}
