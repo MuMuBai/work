{
 "cells": [
  {
   "cell_type": "code",
   "execution_count": 1,
   "id": "1275b4f2-7791-4237-a588-13c54c1f91d4",
   "metadata": {},
   "outputs": [],
   "source": [
    "import torch"
   ]
  },
  {
   "cell_type": "code",
   "execution_count": 2,
   "id": "a129d097-92e5-4254-9923-20e16133c6ad",
   "metadata": {},
   "outputs": [],
   "source": [
    "aa=torch.tensor([[1,2,3],[4,5,6]])"
   ]
  },
  {
   "cell_type": "code",
   "execution_count": 3,
   "id": "8c193136-38e2-4ff3-ba28-0a7b80f51a01",
   "metadata": {},
   "outputs": [
    {
     "data": {
      "text/plain": [
       "tensor([[1, 2, 3],\n",
       "        [4, 5, 6]])"
      ]
     },
     "execution_count": 3,
     "metadata": {},
     "output_type": "execute_result"
    }
   ],
   "source": [
    "aa"
   ]
  },
  {
   "cell_type": "code",
   "execution_count": 6,
   "id": "014b794b-5a01-46eb-ad4e-777de922d08e",
   "metadata": {},
   "outputs": [],
   "source": [
    "bb=torch.tensor([9,95,69])"
   ]
  },
  {
   "cell_type": "code",
   "execution_count": 7,
   "id": "18352f67-54d4-487d-af4e-9f61ccf85850",
   "metadata": {},
   "outputs": [
    {
     "data": {
      "text/plain": [
       "tensor([ 9, 95, 69])"
      ]
     },
     "execution_count": 7,
     "metadata": {},
     "output_type": "execute_result"
    }
   ],
   "source": [
    "bb"
   ]
  },
  {
   "cell_type": "code",
   "execution_count": 8,
   "id": "03224f0a-a5ef-43de-aa55-76e21997f05b",
   "metadata": {},
   "outputs": [],
   "source": [
    "aa[1]=bb"
   ]
  },
  {
   "cell_type": "code",
   "execution_count": 9,
   "id": "93f4c191-35ef-4d1b-8cb2-b95e8a93a971",
   "metadata": {},
   "outputs": [
    {
     "data": {
      "text/plain": [
       "tensor([[ 1,  2,  3],\n",
       "        [ 9, 95, 69]])"
      ]
     },
     "execution_count": 9,
     "metadata": {},
     "output_type": "execute_result"
    }
   ],
   "source": [
    "aa"
   ]
  },
  {
   "cell_type": "code",
   "execution_count": 10,
   "id": "84551c58-55a1-45fd-ae62-f5d4c5ca9759",
   "metadata": {},
   "outputs": [
    {
     "data": {
      "text/plain": [
       "tensor([ 9, 95, 69])"
      ]
     },
     "execution_count": 10,
     "metadata": {},
     "output_type": "execute_result"
    }
   ],
   "source": [
    "bb"
   ]
  },
  {
   "cell_type": "code",
   "execution_count": 11,
   "id": "cb1eacbf-0951-4e4d-a987-31c809684052",
   "metadata": {},
   "outputs": [],
   "source": [
    "bb=torch.tensor([222,222,222])"
   ]
  },
  {
   "cell_type": "code",
   "execution_count": 12,
   "id": "8abc1a8f-a9e6-4fa9-b38c-f4915c45e51d",
   "metadata": {},
   "outputs": [
    {
     "data": {
      "text/plain": [
       "tensor([222, 222, 222])"
      ]
     },
     "execution_count": 12,
     "metadata": {},
     "output_type": "execute_result"
    }
   ],
   "source": [
    "bb"
   ]
  },
  {
   "cell_type": "code",
   "execution_count": 13,
   "id": "df8a0a53-7d94-419f-8624-1923c684a415",
   "metadata": {},
   "outputs": [
    {
     "data": {
      "text/plain": [
       "tensor([[ 1,  2,  3],\n",
       "        [ 9, 95, 69]])"
      ]
     },
     "execution_count": 13,
     "metadata": {},
     "output_type": "execute_result"
    }
   ],
   "source": [
    "aa"
   ]
  },
  {
   "cell_type": "code",
   "execution_count": 15,
   "id": "121162a6-3b62-4e8a-b64b-0c3325cc8429",
   "metadata": {},
   "outputs": [],
   "source": [
    "aa[1]=bb"
   ]
  },
  {
   "cell_type": "code",
   "execution_count": 16,
   "id": "9930bdaf-52c5-4ce9-9420-576a0aa8d381",
   "metadata": {},
   "outputs": [
    {
     "data": {
      "text/plain": [
       "tensor([[  1,   2,   3],\n",
       "        [222, 222, 222]])"
      ]
     },
     "execution_count": 16,
     "metadata": {},
     "output_type": "execute_result"
    }
   ],
   "source": [
    "aa"
   ]
  },
  {
   "cell_type": "code",
   "execution_count": 17,
   "id": "38081d1b-fed6-49a6-8552-fdebcc092b5a",
   "metadata": {},
   "outputs": [
    {
     "data": {
      "text/plain": [
       "tensor([222, 222, 222])"
      ]
     },
     "execution_count": 17,
     "metadata": {},
     "output_type": "execute_result"
    }
   ],
   "source": [
    "bb"
   ]
  },
  {
   "cell_type": "code",
   "execution_count": 18,
   "id": "597cb991-1c20-452c-9d64-af093f230d0a",
   "metadata": {},
   "outputs": [],
   "source": [
    "aa[1]=torch.ones(3)"
   ]
  },
  {
   "cell_type": "code",
   "execution_count": 19,
   "id": "7bbb0a77-f76e-485e-8fe1-6e8ea79b0e37",
   "metadata": {},
   "outputs": [
    {
     "data": {
      "text/plain": [
       "tensor([[1, 2, 3],\n",
       "        [1, 1, 1]])"
      ]
     },
     "execution_count": 19,
     "metadata": {},
     "output_type": "execute_result"
    }
   ],
   "source": [
    "aa"
   ]
  },
  {
   "cell_type": "code",
   "execution_count": 21,
   "id": "60f4edd1-93bb-4127-af44-28db953a3ee0",
   "metadata": {},
   "outputs": [],
   "source": [
    "aa=torch.ones(3,3)"
   ]
  },
  {
   "cell_type": "code",
   "execution_count": 22,
   "id": "daad544e-2368-4142-b10a-c084ef83807e",
   "metadata": {},
   "outputs": [
    {
     "data": {
      "text/plain": [
       "tensor([[1., 1., 1.],\n",
       "        [1., 1., 1.],\n",
       "        [1., 1., 1.]])"
      ]
     },
     "execution_count": 22,
     "metadata": {},
     "output_type": "execute_result"
    }
   ],
   "source": [
    "aa"
   ]
  },
  {
   "cell_type": "code",
   "execution_count": 23,
   "id": "fe1d80b6-2842-4ee9-9a58-f4f201d71ec2",
   "metadata": {},
   "outputs": [],
   "source": [
    "bb=aa"
   ]
  },
  {
   "cell_type": "code",
   "execution_count": 24,
   "id": "51dfc4f4-87a2-442a-b40d-5d179eec1c47",
   "metadata": {},
   "outputs": [
    {
     "data": {
      "text/plain": [
       "tensor([[1., 1., 1.],\n",
       "        [1., 1., 1.],\n",
       "        [1., 1., 1.]])"
      ]
     },
     "execution_count": 24,
     "metadata": {},
     "output_type": "execute_result"
    }
   ],
   "source": [
    "bb"
   ]
  },
  {
   "cell_type": "code",
   "execution_count": 25,
   "id": "85f745a0-9998-4f5e-b80f-3de1dc02d70a",
   "metadata": {},
   "outputs": [],
   "source": [
    "aa=torch.zeros(3,3)"
   ]
  },
  {
   "cell_type": "code",
   "execution_count": 26,
   "id": "c8e17186-bce9-4e90-8342-0cccd34b3c61",
   "metadata": {},
   "outputs": [
    {
     "data": {
      "text/plain": [
       "tensor([[1., 1., 1.],\n",
       "        [1., 1., 1.],\n",
       "        [1., 1., 1.]])"
      ]
     },
     "execution_count": 26,
     "metadata": {},
     "output_type": "execute_result"
    }
   ],
   "source": [
    "bb"
   ]
  },
  {
   "cell_type": "code",
   "execution_count": 27,
   "id": "cb13c869-8f11-4183-906b-5ab8ddb6d542",
   "metadata": {},
   "outputs": [
    {
     "data": {
      "text/plain": [
       "tensor([[0., 0., 0.],\n",
       "        [0., 0., 0.],\n",
       "        [0., 0., 0.]])"
      ]
     },
     "execution_count": 27,
     "metadata": {},
     "output_type": "execute_result"
    }
   ],
   "source": [
    "aa"
   ]
  },
  {
   "cell_type": "code",
   "execution_count": 28,
   "id": "228c6c63-bad7-43dd-8259-a200b2aeb5d4",
   "metadata": {},
   "outputs": [],
   "source": [
    "aa=torch.ones(3,4)"
   ]
  },
  {
   "cell_type": "code",
   "execution_count": 29,
   "id": "097a68d3-085e-41ef-af58-b1488914a061",
   "metadata": {},
   "outputs": [],
   "source": [
    "bb=aa"
   ]
  },
  {
   "cell_type": "code",
   "execution_count": 31,
   "id": "f32ca1de-3be1-4e35-89ae-c5ef4906b324",
   "metadata": {},
   "outputs": [],
   "source": [
    "bb[0]=bb[0]+1"
   ]
  },
  {
   "cell_type": "code",
   "execution_count": 32,
   "id": "43654f28-4578-4366-8767-33c89ca0b781",
   "metadata": {},
   "outputs": [
    {
     "data": {
      "text/plain": [
       "tensor([[2., 2., 2., 2.],\n",
       "        [1., 1., 1., 1.],\n",
       "        [1., 1., 1., 1.]])"
      ]
     },
     "execution_count": 32,
     "metadata": {},
     "output_type": "execute_result"
    }
   ],
   "source": [
    "bb"
   ]
  },
  {
   "cell_type": "code",
   "execution_count": 33,
   "id": "a6c341dd-0aac-46ec-b968-32b685c18347",
   "metadata": {},
   "outputs": [
    {
     "data": {
      "text/plain": [
       "tensor([[2., 2., 2., 2.],\n",
       "        [1., 1., 1., 1.],\n",
       "        [1., 1., 1., 1.]])"
      ]
     },
     "execution_count": 33,
     "metadata": {},
     "output_type": "execute_result"
    }
   ],
   "source": [
    "aa"
   ]
  },
  {
   "cell_type": "code",
   "execution_count": 34,
   "id": "d22781df-60f7-4c88-922e-f2b26f50ca1d",
   "metadata": {},
   "outputs": [],
   "source": [
    "aa=torch.tensor([1,2,3])"
   ]
  },
  {
   "cell_type": "code",
   "execution_count": 35,
   "id": "e47add2d-3f86-4a77-bb25-4aeee9aa07ed",
   "metadata": {},
   "outputs": [],
   "source": [
    "bb=torch.ones(3,3)"
   ]
  },
  {
   "cell_type": "code",
   "execution_count": 36,
   "id": "0f28f017-ad45-4c03-9098-29c9ac16e3e9",
   "metadata": {},
   "outputs": [],
   "source": [
    "bb[0]=aa"
   ]
  },
  {
   "cell_type": "code",
   "execution_count": 37,
   "id": "1b5366a6-c306-4961-8b07-53866fab39bd",
   "metadata": {},
   "outputs": [
    {
     "data": {
      "text/plain": [
       "tensor([[1., 2., 3.],\n",
       "        [1., 1., 1.],\n",
       "        [1., 1., 1.]])"
      ]
     },
     "execution_count": 37,
     "metadata": {},
     "output_type": "execute_result"
    }
   ],
   "source": [
    "bb"
   ]
  },
  {
   "cell_type": "code",
   "execution_count": 38,
   "id": "a005fb2a-ac13-49d3-a556-e1a46ec464b8",
   "metadata": {},
   "outputs": [
    {
     "data": {
      "text/plain": [
       "False"
      ]
     },
     "execution_count": 38,
     "metadata": {},
     "output_type": "execute_result"
    }
   ],
   "source": [
    "id(bb[0])==id(aa)"
   ]
  },
  {
   "cell_type": "code",
   "execution_count": 39,
   "id": "8d9e2bf4-87bd-42ff-93e7-cee5bcb8ab55",
   "metadata": {},
   "outputs": [],
   "source": [
    "def rrr(tensor):\n",
    "    print(tensor)"
   ]
  },
  {
   "cell_type": "code",
   "execution_count": 40,
   "id": "d5614398-dcb6-4e15-ac9b-29b1287b8a66",
   "metadata": {},
   "outputs": [
    {
     "name": "stdout",
     "output_type": "stream",
     "text": [
      "tensor([-1., -1., -1.])\n"
     ]
    }
   ],
   "source": [
    "rrr(torch.ones(3)*(-1))"
   ]
  },
  {
   "cell_type": "code",
   "execution_count": 5,
   "id": "fed0d1d3-b323-45da-8ff0-888f51ed7c13",
   "metadata": {},
   "outputs": [],
   "source": [
    "a=torch.tensor([[1,2,3],[4,5,6],[7,8,9]])"
   ]
  },
  {
   "cell_type": "code",
   "execution_count": 6,
   "id": "c2988ecd-15ca-4ef6-b88f-5a90422ecf5c",
   "metadata": {},
   "outputs": [
    {
     "data": {
      "text/plain": [
       "tensor([[1, 2, 3],\n",
       "        [4, 5, 6],\n",
       "        [7, 8, 9]])"
      ]
     },
     "execution_count": 6,
     "metadata": {},
     "output_type": "execute_result"
    }
   ],
   "source": [
    "a"
   ]
  },
  {
   "cell_type": "code",
   "execution_count": 10,
   "id": "ac364d6b-1563-4506-ab17-d1e5a087a51b",
   "metadata": {},
   "outputs": [],
   "source": [
    "shuffle_index= torch.randperm(3)"
   ]
  },
  {
   "cell_type": "code",
   "execution_count": 11,
   "id": "6a492550-7a78-49be-8c90-6345729a7dda",
   "metadata": {},
   "outputs": [
    {
     "data": {
      "text/plain": [
       "tensor([0, 2, 1])"
      ]
     },
     "execution_count": 11,
     "metadata": {},
     "output_type": "execute_result"
    }
   ],
   "source": [
    "shuffle_index"
   ]
  },
  {
   "cell_type": "code",
   "execution_count": 12,
   "id": "e0975c32-ec3a-44f4-93a6-ce90fad2d4f3",
   "metadata": {},
   "outputs": [
    {
     "data": {
      "text/plain": [
       "tensor([[1, 2, 3],\n",
       "        [7, 8, 9],\n",
       "        [4, 5, 6]])"
      ]
     },
     "execution_count": 12,
     "metadata": {},
     "output_type": "execute_result"
    }
   ],
   "source": [
    "a[shuffle_index]"
   ]
  },
  {
   "cell_type": "code",
   "execution_count": 16,
   "id": "41c57ec6-3c7d-4209-8e41-8f8844b34a57",
   "metadata": {},
   "outputs": [
    {
     "data": {
      "text/plain": [
       "tensor([[1, 2, 3],\n",
       "        [4, 5, 6]])"
      ]
     },
     "execution_count": 16,
     "metadata": {},
     "output_type": "execute_result"
    }
   ],
   "source": [
    "a[0:3*7//10]"
   ]
  }
 ],
 "metadata": {
  "kernelspec": {
   "display_name": "Python 3 (ipykernel)",
   "language": "python",
   "name": "python3"
  },
  "language_info": {
   "codemirror_mode": {
    "name": "ipython",
    "version": 3
   },
   "file_extension": ".py",
   "mimetype": "text/x-python",
   "name": "python",
   "nbconvert_exporter": "python",
   "pygments_lexer": "ipython3",
   "version": "3.8.0"
  }
 },
 "nbformat": 4,
 "nbformat_minor": 5
}
