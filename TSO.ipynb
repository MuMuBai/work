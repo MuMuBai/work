{
 "cells": [
  {
   "cell_type": "code",
   "execution_count": null,
   "id": "3ca3aee1-9df3-4e6d-8da2-b69615cf8752",
   "metadata": {},
   "outputs": [],
   "source": [
    "## 前期w(惯性) 个体极值c1 最好大一点  后期w C1最好小一点\n",
    "## 加入随机因素  前后期速度的变化 \n",
    "# 如何避免局部最优 "
   ]
  },
  {
   "cell_type": "code",
   "execution_count": 1,
   "id": "283422f8-dbcd-49d0-b4f8-6979b49290a7",
   "metadata": {},
   "outputs": [],
   "source": [
    "import torch"
   ]
  },
  {
   "cell_type": "code",
   "execution_count": 3,
   "id": "da336b48-d781-4ff3-8c01-e21b3e6fde84",
   "metadata": {},
   "outputs": [],
   "source": [
    "a=torch.tensor([1,2,3,4])"
   ]
  },
  {
   "cell_type": "code",
   "execution_count": 10,
   "id": "f410a48c-eff9-43fe-b906-87608de80312",
   "metadata": {},
   "outputs": [
    {
     "data": {
      "text/plain": [
       "4"
      ]
     },
     "execution_count": 10,
     "metadata": {},
     "output_type": "execute_result"
    }
   ],
   "source": [
    "a.shape[0]"
   ]
  },
  {
   "cell_type": "code",
   "execution_count": 19,
   "id": "6575f47a-0d16-4793-ae35-d22386e6a679",
   "metadata": {},
   "outputs": [],
   "source": [
    "def initialization(SearchAgents_no, dim, ub, lb):\n",
    "    #     SearchAgents_no 为种群数量\n",
    "    # Boundary_no = ub.shape[0]   ##比如ub [1,1,1]\n",
    "    aa=torch.rand(SearchAgents_no,dim)\n",
    "    print(aa)\n",
    "    print(ub,lb)\n",
    "    Positions=aa*(ub-lb)+lb\n",
    "    print(Positions)\n",
    "    return Positions\n"
   ]
  },
  {
   "cell_type": "code",
   "execution_count": 23,
   "id": "0bffd4f0-1e03-4941-a1ce-400e38c9f29f",
   "metadata": {},
   "outputs": [
    {
     "name": "stdout",
     "output_type": "stream",
     "text": [
      "tensor([[0.7691, 0.2474, 0.3736, 0.4358, 0.6140],\n",
      "        [0.3880, 0.3623, 0.2125, 0.8146, 0.3226],\n",
      "        [0.7151, 0.6879, 0.1587, 0.4722, 0.8136],\n",
      "        [0.0809, 0.9053, 0.2089, 0.9044, 0.0222],\n",
      "        [0.7914, 0.4256, 0.8623, 0.2167, 0.5200],\n",
      "        [0.6377, 0.2948, 0.7035, 0.6333, 0.1577],\n",
      "        [0.5527, 0.8632, 0.7848, 0.3854, 0.0140],\n",
      "        [0.2455, 0.1262, 0.5956, 0.9498, 0.3975],\n",
      "        [0.0413, 0.9338, 0.1056, 0.8458, 0.8129],\n",
      "        [0.9411, 0.8538, 0.1335, 0.1026, 0.0312]])\n",
      "tensor([5, 1, 1, 1, 1]) tensor([0, 0, 0, 0, 0])\n",
      "tensor([[3.8457, 0.2474, 0.3736, 0.4358, 0.6140],\n",
      "        [1.9402, 0.3623, 0.2125, 0.8146, 0.3226],\n",
      "        [3.5756, 0.6879, 0.1587, 0.4722, 0.8136],\n",
      "        [0.4045, 0.9053, 0.2089, 0.9044, 0.0222],\n",
      "        [3.9569, 0.4256, 0.8623, 0.2167, 0.5200],\n",
      "        [3.1885, 0.2948, 0.7035, 0.6333, 0.1577],\n",
      "        [2.7635, 0.8632, 0.7848, 0.3854, 0.0140],\n",
      "        [1.2276, 0.1262, 0.5956, 0.9498, 0.3975],\n",
      "        [0.2066, 0.9338, 0.1056, 0.8458, 0.8129],\n",
      "        [4.7057, 0.8538, 0.1335, 0.1026, 0.0312]])\n"
     ]
    }
   ],
   "source": [
    "pos=initialization(10,5,torch.tensor([5,1,1,1,1]),torch.tensor([0,0,0,0,0]))"
   ]
  },
  {
   "cell_type": "code",
   "execution_count": 16,
   "id": "feff8973-6120-4ab7-aa12-6b48b36e4b4b",
   "metadata": {},
   "outputs": [
    {
     "data": {
      "text/plain": [
       "tensor([[1., 1., 1., 1., 1.],\n",
       "        [1., 1., 1., 1., 1.],\n",
       "        [1., 1., 1., 1., 1.],\n",
       "        [1., 1., 1., 1., 1.],\n",
       "        [1., 1., 1., 1., 1.],\n",
       "        [1., 1., 1., 1., 1.],\n",
       "        [1., 1., 1., 1., 1.],\n",
       "        [1., 1., 1., 1., 1.],\n",
       "        [1., 1., 1., 1., 1.],\n",
       "        [1., 1., 1., 1., 1.]])"
      ]
     },
     "execution_count": 16,
     "metadata": {},
     "output_type": "execute_result"
    }
   ],
   "source": []
  },
  {
   "cell_type": "code",
   "execution_count": 24,
   "id": "76cf17cd-792b-494d-bb21-fbde45ab811f",
   "metadata": {},
   "outputs": [
    {
     "data": {
      "text/plain": [
       "tensor([[0.],\n",
       "        [0.],\n",
       "        [0.],\n",
       "        [0.],\n",
       "        [0.],\n",
       "        [0.],\n",
       "        [0.],\n",
       "        [0.],\n",
       "        [0.],\n",
       "        [0.]])"
      ]
     },
     "execution_count": 24,
     "metadata": {},
     "output_type": "execute_result"
    }
   ],
   "source": [
    "torch.zeros(10,1)"
   ]
  },
  {
   "cell_type": "code",
   "execution_count": 53,
   "id": "2c0573f4-c6d2-43e3-847d-b834ad1d86e0",
   "metadata": {},
   "outputs": [],
   "source": [
    "a=torch.tensor([[1,2,3],[2,3,4]])"
   ]
  },
  {
   "cell_type": "code",
   "execution_count": 32,
   "id": "0e0fda1d-f93b-4224-a31d-8a8b93018ef0",
   "metadata": {},
   "outputs": [
    {
     "data": {
      "text/plain": [
       "tensor([[1, 2, 3],\n",
       "        [2, 3, 4]])"
      ]
     },
     "execution_count": 32,
     "metadata": {},
     "output_type": "execute_result"
    }
   ],
   "source": [
    "a"
   ]
  },
  {
   "cell_type": "code",
   "execution_count": 35,
   "id": "59524c64-68c1-4c88-9497-bd0a44e85500",
   "metadata": {},
   "outputs": [
    {
     "data": {
      "text/plain": [
       "torch.Size([3])"
      ]
     },
     "execution_count": 35,
     "metadata": {},
     "output_type": "execute_result"
    }
   ],
   "source": [
    "a[0].shape"
   ]
  },
  {
   "cell_type": "code",
   "execution_count": 38,
   "id": "e4c62fd5-425e-4401-8774-0b09f21cb1a7",
   "metadata": {},
   "outputs": [],
   "source": [
    "A=torch.tensor([False,True,False])"
   ]
  },
  {
   "cell_type": "code",
   "execution_count": 39,
   "id": "b96bb0b4-68da-4a4d-bf6f-8e503955d36a",
   "metadata": {},
   "outputs": [],
   "source": [
    "B=torch.tensor([True,False,False])"
   ]
  },
  {
   "cell_type": "code",
   "execution_count": 40,
   "id": "56d20de3-2005-40db-a57a-1c14d9a1fd00",
   "metadata": {},
   "outputs": [
    {
     "data": {
      "text/plain": [
       "tensor([ True,  True, False])"
      ]
     },
     "execution_count": 40,
     "metadata": {},
     "output_type": "execute_result"
    }
   ],
   "source": [
    "A+B"
   ]
  },
  {
   "cell_type": "code",
   "execution_count": 41,
   "id": "9a1b7956-eb05-4040-a9da-5295499a9c61",
   "metadata": {},
   "outputs": [],
   "source": [
    "C=torch.tensor([132,23,23])"
   ]
  },
  {
   "cell_type": "code",
   "execution_count": 46,
   "id": "e52fff65-65a1-4074-a14d-ef6e0ffbf55d",
   "metadata": {},
   "outputs": [
    {
     "data": {
      "text/plain": [
       "tensor([ 0,  0, 23])"
      ]
     },
     "execution_count": 46,
     "metadata": {},
     "output_type": "execute_result"
    }
   ],
   "source": [
    "~A*C"
   ]
  },
  {
   "cell_type": "code",
   "execution_count": 47,
   "id": "efedb0fd-d6d6-412e-8423-17c4273ded7d",
   "metadata": {},
   "outputs": [],
   "source": [
    "a=[]"
   ]
  },
  {
   "cell_type": "code",
   "execution_count": 48,
   "id": "dfbbb7ff-4ec0-4368-a4da-c49c1203c223",
   "metadata": {},
   "outputs": [
    {
     "ename": "IndexError",
     "evalue": "list assignment index out of range",
     "output_type": "error",
     "traceback": [
      "\u001b[1;31m---------------------------------------------------------------------------\u001b[0m",
      "\u001b[1;31mIndexError\u001b[0m                                Traceback (most recent call last)",
      "Cell \u001b[1;32mIn[48], line 1\u001b[0m\n\u001b[1;32m----> 1\u001b[0m \u001b[43ma\u001b[49m\u001b[43m[\u001b[49m\u001b[38;5;241;43m0\u001b[39;49m\u001b[43m]\u001b[49m\u001b[38;5;241m=\u001b[39m\u001b[38;5;241m1\u001b[39m\n",
      "\u001b[1;31mIndexError\u001b[0m: list assignment index out of range"
     ]
    }
   ],
   "source": [
    "a[0]=1"
   ]
  },
  {
   "cell_type": "code",
   "execution_count": 49,
   "id": "ed003c5c-711a-460f-a3df-a079d149fad1",
   "metadata": {},
   "outputs": [],
   "source": [
    "bb=torch.inf"
   ]
  },
  {
   "cell_type": "code",
   "execution_count": 54,
   "id": "9e2a2ab2-7ecf-4aa2-992a-51637b805b62",
   "metadata": {},
   "outputs": [
    {
     "data": {
      "text/plain": [
       "tensor([[True, True, True],\n",
       "        [True, True, True]])"
      ]
     },
     "execution_count": 54,
     "metadata": {},
     "output_type": "execute_result"
    }
   ],
   "source": [
    "a<bb"
   ]
  },
  {
   "cell_type": "code",
   "execution_count": 61,
   "id": "6e93c5e0-e65a-4e84-b453-cbbf8c0516a2",
   "metadata": {},
   "outputs": [],
   "source": [
    "import copy"
   ]
  },
  {
   "cell_type": "code",
   "execution_count": 62,
   "id": "f1c092f7-a739-45de-a3a6-61f8a5b36a98",
   "metadata": {},
   "outputs": [],
   "source": [
    "aa=[1,2]"
   ]
  },
  {
   "cell_type": "code",
   "execution_count": 63,
   "id": "fc3ff083-771f-4832-8206-9db63a56c079",
   "metadata": {},
   "outputs": [],
   "source": [
    "bb=aa"
   ]
  },
  {
   "cell_type": "code",
   "execution_count": 64,
   "id": "7d540181-cff9-4b38-817f-4a45480b42e7",
   "metadata": {},
   "outputs": [
    {
     "data": {
      "text/plain": [
       "[1, 2]"
      ]
     },
     "execution_count": 64,
     "metadata": {},
     "output_type": "execute_result"
    }
   ],
   "source": [
    "bb"
   ]
  },
  {
   "cell_type": "code",
   "execution_count": 65,
   "id": "f1560998-ddf1-4392-bdb9-35b50b424b70",
   "metadata": {},
   "outputs": [],
   "source": [
    "aa[0]=123"
   ]
  },
  {
   "cell_type": "code",
   "execution_count": 67,
   "id": "ad0b5952-09a8-43a9-8837-536f2c983263",
   "metadata": {},
   "outputs": [],
   "source": [
    "aaa=torch.tensor([1,2,3])"
   ]
  },
  {
   "cell_type": "code",
   "execution_count": 68,
   "id": "a2798d00-77f7-40d2-b98f-3836d8ffa780",
   "metadata": {},
   "outputs": [],
   "source": [
    "bbb=copy.deepcopy(aaa)"
   ]
  },
  {
   "cell_type": "code",
   "execution_count": 69,
   "id": "391e03cf-dccc-4557-9526-6ee537525e2c",
   "metadata": {},
   "outputs": [
    {
     "data": {
      "text/plain": [
       "tensor([1, 2, 3])"
      ]
     },
     "execution_count": 69,
     "metadata": {},
     "output_type": "execute_result"
    }
   ],
   "source": [
    "bbb\n"
   ]
  },
  {
   "cell_type": "code",
   "execution_count": 71,
   "id": "5b8cf712-b63c-4708-beff-af4530649623",
   "metadata": {},
   "outputs": [
    {
     "data": {
      "text/plain": [
       "4.2870938501451725"
      ]
     },
     "execution_count": 71,
     "metadata": {},
     "output_type": "execute_result"
    }
   ],
   "source": [
    "2**(2.1)"
   ]
  },
  {
   "cell_type": "code",
   "execution_count": null,
   "id": "5d60bfc2-6ecd-40e7-83d6-ca8f9a92f180",
   "metadata": {},
   "outputs": [],
   "source": []
  },
  {
   "cell_type": "code",
   "execution_count": 85,
   "id": "e01cad27-b1c0-4fb0-8b0c-a1962a15c8a1",
   "metadata": {},
   "outputs": [],
   "source": [
    "A=torch.rand(1).item()"
   ]
  },
  {
   "cell_type": "code",
   "execution_count": 87,
   "id": "745294db-3077-4fce-a959-eaca4de9deba",
   "metadata": {},
   "outputs": [
    {
     "data": {
      "text/plain": [
       "float"
      ]
     },
     "execution_count": 87,
     "metadata": {},
     "output_type": "execute_result"
    }
   ],
   "source": [
    "type(A)"
   ]
  },
  {
   "cell_type": "code",
   "execution_count": 88,
   "id": "7eb78b69-6807-47a5-84da-3ffbb4aff639",
   "metadata": {},
   "outputs": [],
   "source": [
    "import math"
   ]
  },
  {
   "cell_type": "code",
   "execution_count": 89,
   "id": "f123f721-2d77-4f35-b805-604bacc22ae6",
   "metadata": {},
   "outputs": [
    {
     "data": {
      "text/plain": [
       "7.38905609893065"
      ]
     },
     "execution_count": 89,
     "metadata": {},
     "output_type": "execute_result"
    }
   ],
   "source": [
    "math.exp(2)"
   ]
  },
  {
   "cell_type": "code",
   "execution_count": 91,
   "id": "9283864c-163b-4114-98d9-86ad9db45b14",
   "metadata": {},
   "outputs": [
    {
     "data": {
      "text/plain": [
       "5.1529"
      ]
     },
     "execution_count": 91,
     "metadata": {},
     "output_type": "execute_result"
    }
   ],
   "source": [
    "2.27*2.27"
   ]
  },
  {
   "cell_type": "code",
   "execution_count": 94,
   "id": "47326b83-c146-495d-818e-49a14fbe3921",
   "metadata": {},
   "outputs": [
    {
     "data": {
      "text/plain": [
       "float"
      ]
     },
     "execution_count": 94,
     "metadata": {},
     "output_type": "execute_result"
    }
   ],
   "source": [
    "type(math.exp(1))"
   ]
  },
  {
   "cell_type": "code",
   "execution_count": 93,
   "id": "4169494d-4fb0-49ea-a24f-1947f75fadaa",
   "metadata": {},
   "outputs": [
    {
     "data": {
      "text/plain": [
       "7.3890560989306495"
      ]
     },
     "execution_count": 93,
     "metadata": {},
     "output_type": "execute_result"
    }
   ],
   "source": [
    "2.718281828459045*2.718281828459045"
   ]
  },
  {
   "cell_type": "code",
   "execution_count": 95,
   "id": "aac4732b-9b97-4a65-ae4d-e4d45b172ccf",
   "metadata": {},
   "outputs": [
    {
     "data": {
      "text/plain": [
       "0.5403023058681398"
      ]
     },
     "execution_count": 95,
     "metadata": {},
     "output_type": "execute_result"
    }
   ],
   "source": [
    "math.cos(1)"
   ]
  },
  {
   "cell_type": "code",
   "execution_count": 96,
   "id": "8014e2be-1c6b-4b22-8a4f-7c717477a3da",
   "metadata": {},
   "outputs": [],
   "source": [
    "zz=torch.tensor([-1,-2,2,5])"
   ]
  },
  {
   "cell_type": "code",
   "execution_count": 97,
   "id": "cd0ea704-63d3-409c-abfe-02bcca5d2577",
   "metadata": {},
   "outputs": [
    {
     "data": {
      "text/plain": [
       "tensor([-1, -2,  2,  5])"
      ]
     },
     "execution_count": 97,
     "metadata": {},
     "output_type": "execute_result"
    }
   ],
   "source": [
    "zz"
   ]
  },
  {
   "cell_type": "code",
   "execution_count": 102,
   "id": "c52b13fc-5b91-4823-9794-8f7ccce92c4d",
   "metadata": {},
   "outputs": [],
   "source": [
    "aa=-zz.abs()"
   ]
  },
  {
   "cell_type": "code",
   "execution_count": 103,
   "id": "665946ea-fc71-4d24-856f-cf8f1111ed26",
   "metadata": {},
   "outputs": [
    {
     "data": {
      "text/plain": [
       "tensor([-1, -2, -2, -5])"
      ]
     },
     "execution_count": 103,
     "metadata": {},
     "output_type": "execute_result"
    }
   ],
   "source": [
    "aa"
   ]
  },
  {
   "cell_type": "code",
   "execution_count": 104,
   "id": "3cf81d01-8a8c-4005-898f-db29b3a52283",
   "metadata": {},
   "outputs": [
    {
     "data": {
      "text/plain": [
       "tensor([1, 2, 2, 5])"
      ]
     },
     "execution_count": 104,
     "metadata": {},
     "output_type": "execute_result"
    }
   ],
   "source": [
    "aa.abs()"
   ]
  },
  {
   "cell_type": "code",
   "execution_count": 119,
   "id": "ac866122-833e-4cc0-8120-bb8d309de871",
   "metadata": {},
   "outputs": [
    {
     "data": {
      "text/plain": [
       "-1"
      ]
     },
     "execution_count": 119,
     "metadata": {},
     "output_type": "execute_result"
    }
   ],
   "source": [
    "(torch.rand(1).item()>=0.5)*2-1"
   ]
  },
  {
   "cell_type": "code",
   "execution_count": 120,
   "id": "860e833f-eee5-4e43-9b06-080bf719492f",
   "metadata": {},
   "outputs": [
    {
     "name": "stdout",
     "output_type": "stream",
     "text": [
      "1\n",
      "2\n",
      "3\n",
      "4\n",
      "5\n",
      "6\n",
      "7\n",
      "8\n",
      "9\n"
     ]
    }
   ],
   "source": [
    "for i in range(1,10):\n",
    "    print(i)"
   ]
  },
  {
   "cell_type": "code",
   "execution_count": null,
   "id": "2bb2ea6f-ed5e-420b-a5b9-349835ca277d",
   "metadata": {},
   "outputs": [],
   "source": []
  }
 ],
 "metadata": {
  "kernelspec": {
   "display_name": "Python 3 (ipykernel)",
   "language": "python",
   "name": "python3"
  },
  "language_info": {
   "codemirror_mode": {
    "name": "ipython",
    "version": 3
   },
   "file_extension": ".py",
   "mimetype": "text/x-python",
   "name": "python",
   "nbconvert_exporter": "python",
   "pygments_lexer": "ipython3",
   "version": "3.8.0"
  }
 },
 "nbformat": 4,
 "nbformat_minor": 5
}
